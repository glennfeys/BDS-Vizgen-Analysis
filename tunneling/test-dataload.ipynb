{
 "cells": [
  {
   "cell_type": "markdown",
   "id": "cc9c3752",
   "metadata": {},
   "source": [
    "# Tunneling Jupyter from Head Node to local machine\n",
    "\n",
    "On the head node, i.e. remotely via SSH:\n",
    "```\n",
    "jupyter notebook --no-browser --port=8889\n",
    "```\n",
    "\n",
    "While locally run the following command for tunneling:\n",
    "```\n",
    "ssh -N -L localhost:8888:localhost:8889 ldebackere@193.190.80.16 -p 50022\n",
    "```\n",
    "\n",
    "The code below should work now:"
   ]
  },
  {
   "cell_type": "code",
   "execution_count": 5,
   "id": "ab019ede",
   "metadata": {},
   "outputs": [],
   "source": [
    "import zarr"
   ]
  },
  {
   "cell_type": "code",
   "execution_count": 6,
   "id": "c37313ad",
   "metadata": {},
   "outputs": [],
   "source": [
    "z = zarr.open(\"hdfs://bds-head:9000/data/45_000.zarr\")"
   ]
  },
  {
   "cell_type": "code",
   "execution_count": 7,
   "id": "687a626f",
   "metadata": {},
   "outputs": [
    {
     "data": {
      "text/plain": [
       "<zarr.core.Array (7, 45000, 45000) uint16>"
      ]
     },
     "execution_count": 7,
     "metadata": {},
     "output_type": "execute_result"
    }
   ],
   "source": [
    "z"
   ]
  }
 ],
 "metadata": {
  "kernelspec": {
   "display_name": "Python 3 (ipykernel)",
   "language": "python",
   "name": "python3"
  },
  "language_info": {
   "codemirror_mode": {
    "name": "ipython",
    "version": 3
   },
   "file_extension": ".py",
   "mimetype": "text/x-python",
   "name": "python",
   "nbconvert_exporter": "python",
   "pygments_lexer": "ipython3",
   "version": "3.8.12"
  }
 },
 "nbformat": 4,
 "nbformat_minor": 5
}
